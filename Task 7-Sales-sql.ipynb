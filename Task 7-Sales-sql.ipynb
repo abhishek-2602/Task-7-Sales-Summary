{
 "cells": [
  {
   "cell_type": "code",
   "execution_count": 63,
   "id": "b3b154b4-3ce1-4a53-ae8a-39bf5286e954",
   "metadata": {},
   "outputs": [],
   "source": [
    "import sqlite3\n"
   ]
  },
  {
   "cell_type": "code",
   "execution_count": 64,
   "id": "9c2ba466-2b9c-47e5-aad0-ded58b5c8947",
   "metadata": {},
   "outputs": [],
   "source": [
    "conn=sqlite3.connect('Sales__data.db')"
   ]
  },
  {
   "cell_type": "code",
   "execution_count": 66,
   "id": "826e9637-6813-45c7-b244-21d256c862e1",
   "metadata": {},
   "outputs": [
    {
     "data": {
      "text/plain": [
       "<sqlite3.Cursor at 0x28b6e3025c0>"
      ]
     },
     "execution_count": 66,
     "metadata": {},
     "output_type": "execute_result"
    }
   ],
   "source": [
    "conn.execute('''\n",
    "Create Table Salesdata(\n",
    "id integer primary key,\n",
    "Products text,\n",
    "Quantity integer,\n",
    "Price \n",
    ")\n",
    "''')"
   ]
  },
  {
   "cell_type": "code",
   "execution_count": 69,
   "id": "ff465ea9-1271-4d92-87e6-4ba85a96335f",
   "metadata": {},
   "outputs": [
    {
     "data": {
      "text/plain": [
       "<sqlite3.Cursor at 0x28b6eaac940>"
      ]
     },
     "execution_count": 69,
     "metadata": {},
     "output_type": "execute_result"
    }
   ],
   "source": [
    "conn.executemany( '''\n",
    "Insert into Salesdata('Products','Quantity','Price') Values (?,?,?)\n",
    "''',[\n",
    "('Mobiles',100,12500),\n",
    "('Laptops',130,30000),\n",
    "('Speakers',150,10000)\n",
    "])\n",
    "\n"
   ]
  },
  {
   "cell_type": "code",
   "execution_count": 70,
   "id": "2563f4e5-6d41-4f5b-9b1f-5089b542e202",
   "metadata": {},
   "outputs": [],
   "source": [
    "conn.commit()\n",
    "conn.close()"
   ]
  },
  {
   "cell_type": "code",
   "execution_count": 73,
   "id": "1c7b3713-8c68-487e-99fc-2373ab64f1ac",
   "metadata": {},
   "outputs": [],
   "source": [
    "import sqlite3\n",
    "import pandas as pd\n",
    "import matplotlib.pyplot as plt"
   ]
  },
  {
   "cell_type": "code",
   "execution_count": 75,
   "id": "eeec9252-fb46-4907-8394-0a441d56ce58",
   "metadata": {},
   "outputs": [],
   "source": [
    "conn=sqlite3.connect('Sales__data.db')\n"
   ]
  },
  {
   "cell_type": "code",
   "execution_count": 89,
   "id": "bf3e5ea7-00eb-49b0-9404-08750f2ba045",
   "metadata": {},
   "outputs": [],
   "source": [
    "query='''\n",
    "select\n",
    "    Products,\n",
    "    sum(Quantity) AS Total_Quantity,\n",
    "    sum(Quantity * Price) AS Total_Revenue\n",
    "from\n",
    "Salesdata\n",
    "Group by Products\n",
    "'''"
   ]
  },
  {
   "cell_type": "code",
   "execution_count": 90,
   "id": "0bc7ef5b-b9e8-4393-87c6-d0bfcdde2da8",
   "metadata": {},
   "outputs": [],
   "source": [
    "df=pd.read_sql_query(query,conn)"
   ]
  },
  {
   "cell_type": "code",
   "execution_count": 92,
   "id": "6fda46bf-19e6-492c-bdbc-ccf9b447684a",
   "metadata": {},
   "outputs": [
    {
     "name": "stdout",
     "output_type": "stream",
     "text": [
      "Sales Summary:\n",
      "   Products  total_quantity  total_revenue\n",
      "0   Laptops             130        3900000\n",
      "1   Mobiles             100        1250000\n",
      "2  Speakers             150        1500000\n"
     ]
    }
   ],
   "source": [
    "print('Sales Summary:')\n",
    "print(df)"
   ]
  },
  {
   "cell_type": "code",
   "execution_count": 102,
   "id": "ea384f29-6d62-40a0-908f-5094675e12d6",
   "metadata": {},
   "outputs": [
    {
     "data": {
      "image/png": "[encoded data removed]",
      "text/plain": [
       "<Figure size 640x480 with 1 Axes>"
      ]
     },
     "metadata": {},
     "output_type": "display_data"
    }
   ],
   "source": [
    "df.plot(kind='bar',x='Products',y='total_revenue',color='Brown',legend=False)\n",
    "plt.title('Revenue by Product')\n",
    "plt.ylabel('Revenue')\n",
    "plt.savefig('Sales_chart.png')\n",
    "plt.show()\n",
    "          "
   ]
  },
  {
   "cell_type": "code",
   "execution_count": 103,
   "id": "1edfbe21-f449-4d02-b4d8-4e7b1c073899",
   "metadata": {},
   "outputs": [],
   "source": [
    "conn.close()"
   ]
  },
  {
   "cell_type": "code",
   "execution_count": null,
   "id": "7e673730-a4b7-4485-b525-4be1d9c8ab8e",
   "metadata": {},
   "outputs": [],
   "source": []
  }
 ],
 "metadata": {
  "kernelspec": {
   "display_name": "Python [conda env:base] *",
   "language": "python",
   "name": "conda-base-py"
  },
  "language_info": {
   "codemirror_mode": {
    "name": "ipython",
    "version": 3
   },
   "file_extension": ".py",
   "mimetype": "text/x-python",
   "name": "python",
   "nbconvert_exporter": "python",
   "pygments_lexer": "ipython3",
   "version": "3.12.7"
  }
 },
 "nbformat": 4,
 "nbformat_minor": 5
}
